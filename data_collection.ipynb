{
 "cells": [
  {
   "cell_type": "markdown",
   "metadata": {},
   "source": [
    "### Import Modules and Settings"
   ]
  },
  {
   "cell_type": "code",
   "execution_count": 1,
   "metadata": {
    "ExecuteTime": {
     "end_time": "2019-10-19T00:01:50.076570Z",
     "start_time": "2019-10-19T00:01:49.375526Z"
    }
   },
   "outputs": [],
   "source": [
    "import stats_nba_scraper as nba\n",
    "\n",
    "import os\n",
    "import path\n",
    "\n",
    "import requests\n",
    "requests.__path__\n",
    "from bs4 import BeautifulSoup as BS\n",
    "from selenium import webdriver\n",
    "from selenium.webdriver.common.keys import Keys\n",
    "from selenium.webdriver.support.ui import WebDriverWait\n",
    "from selenium.webdriver.support import expected_conditions as EC\n",
    "from selenium.webdriver.common.by import By\n",
    "\n",
    "from datetime import datetime, timedelta\n",
    "import string\n",
    "import re\n",
    "from functools import reduce\n",
    "import time\n",
    "import random\n",
    " \n",
    "import numpy as np\n",
    "import pandas as pd\n",
    "pd.set_option(\"display.max_rows\", 500)\n",
    "pd.set_option(\"display.precision\", 3)\n",
    "pd.set_option(\"display.max_columns\", None)\n",
    "pd.options.display.float_format = \"{:.2f}\".format\n",
    "\n",
    "current_season_path = os.getcwd() + '/data/2019-20_raw/'\n",
    "raw_path = os.getcwd() + '/data/raw/'\n",
    "fc_path = os.getcwd() + '/data/external/' #fantasycruncher csv files\n",
    "fc_pickled_path = os.getcwd() + '/data/external/pickled_version/' #pickled versions of FC .csv files\n",
    "processed_path = os.getcwd() + '/data/processed/' #fuzzy_matched files\n",
    "model_path = os.getcwd() + '/data/model/' #datasets to be used for modeling"
   ]
  },
  {
   "cell_type": "markdown",
   "metadata": {},
   "source": [
    "# Data Acquisition"
   ]
  },
  {
   "cell_type": "markdown",
   "metadata": {},
   "source": [
    "### stats.nba scraper"
   ]
  },
  {
   "cell_type": "code",
   "execution_count": 2,
   "metadata": {
    "ExecuteTime": {
     "end_time": "2019-10-15T05:08:34.600166Z",
     "start_time": "2019-10-15T05:08:33.137917Z"
    }
   },
   "outputs": [],
   "source": [
    "# Initiate driver instance\n",
    "driver_path = '/usr/bin/chromedriver'\n",
    "driver = webdriver.Chrome(executable_path = driver_path)"
   ]
  },
  {
   "cell_type": "code",
   "execution_count": 5,
   "metadata": {
    "ExecuteTime": {
     "end_time": "2019-10-15T05:12:55.335368Z",
     "start_time": "2019-10-15T05:12:06.978295Z"
    }
   },
   "outputs": [
    {
     "name": "stdout",
     "output_type": "stream",
     "text": [
      "Attempt 1: Game ID 0021801034 pickled successfully\n",
      "Attempt 1: Game ID 0021801035 pickled successfully\n"
     ]
    }
   ],
   "source": [
    "nba.generate_game_log_range(21800001, 21801230, 1, driver, current_season_path)"
   ]
  },
  {
   "cell_type": "markdown",
   "metadata": {},
   "source": [
    "### FantasyCruncher.com .csv automated download"
   ]
  },
  {
   "cell_type": "code",
   "execution_count": null,
   "metadata": {
    "ExecuteTime": {
     "end_time": "2019-10-15T03:02:31.152502Z",
     "start_time": "2019-10-15T03:02:31.147235Z"
    }
   },
   "outputs": [],
   "source": [
    "# Generate date ranges to automate csv download process\n",
    "def generate_date_range(starting_game, ending_game):\n",
    "\n",
    "    starting_date = datetime.strptime(str(starting_game), '%Y%m%d')\n",
    "    ending_date = datetime.strptime(str(ending_game), '%Y%m%d')\n",
    "    date_list = []\n",
    "    season_length = (ending_date - starting_date).days\n",
    "    starting_date -= timedelta(days = 1)\n",
    "    game_date = starting_date\n",
    "\n",
    "    for day_num in range(0, season_length + 1):\n",
    "\n",
    "        game_date += timedelta(days = 1)\n",
    "        date_list.append(datetime.strftime(game_date, '%Y-%m-%d'))\n",
    "    \n",
    "    return date_list"
   ]
  },
  {
   "cell_type": "code",
   "execution_count": null,
   "metadata": {
    "ExecuteTime": {
     "end_time": "2019-09-09T02:16:30.700347Z",
     "start_time": "2019-09-09T01:45:57.674890Z"
    }
   },
   "outputs": [],
   "source": [
    "# Grabbing csv files from fantasy cruncher. You will need your own login information\n",
    "starting_game = 20181016\n",
    "ending_game = 20190410\n",
    "date_list = generate_date_range(starting_game, ending_game)\n",
    "\n",
    "driver.get('https://www.fantasycruncher.com/lineup-rewind/')\n",
    "time.sleep(1)\n",
    "username = driver.find_element_by_id('user_email')\n",
    "username.clear()\n",
    "username.send_keys('########') # enter your own FantasyCruncher email\n",
    "\n",
    "password = driver.find_element_by_id('user_password')\n",
    "password.clear()\n",
    "#password.send_keys('#######') # enter your own FantasyCruncher password\n",
    "\n",
    "driver.find_element_by_id('submit').click()\n",
    "\n",
    "for date in date_list:\n",
    "    driver.get('https://www.fantasycruncher.com/lineup-rewind/draftkings/NBA/{}'.format(date))\n",
    "    time.sleep(3)\n",
    "    \n",
    "    driver.find_element_by_id('table-actions').click()\n",
    "    driver.find_elements_by_class_name('table-actions-option')[3].click()\n",
    "    time.sleep(2)"
   ]
  },
  {
   "cell_type": "code",
   "execution_count": 12,
   "metadata": {
    "ExecuteTime": {
     "end_time": "2019-10-15T05:25:42.195483Z",
     "start_time": "2019-10-15T05:25:12.143411Z"
    }
   },
   "outputs": [],
   "source": [
    "# Generate date-list \n",
    "starting_game = 20181016\n",
    "ending_game = 20190410\n",
    "\n",
    "starting_date = datetime.strptime(str(starting_game - 1), '%Y%m%d')\n",
    "ending_date = datetime.strptime(str(ending_game), '%Y%m%d')\n",
    "date_list = []\n",
    "season_length = (ending_date - starting_date).days\n",
    "game_date = starting_date\n",
    "\n",
    "# This creates the dataframe for fantasy-cruncher csv files. \n",
    "for day_num in range(0, season_length):\n",
    "\n",
    "    game_date += timedelta(days = 1)\n",
    "    date_list.append(datetime.strftime(game_date, '%Y-%m-%d'))\n",
    "    \n",
    "daily_dfs = []\n",
    "for game_date in date_list:\n",
    "    daily_dfs.append(pd.read_pickle(fc_pickled_path + 'draftkings_NBA_{}_players'.format(game_date)))\n",
    "    df_fc = pd.concat(daily_dfs, axis = 0, ignore_index = True)  \n",
    "    df_fc.to_pickle(fc_pickled_path + 'fc_2018-19')"
   ]
  },
  {
   "cell_type": "markdown",
   "metadata": {},
   "source": [
    "# DataFrame Cleaning and Merging"
   ]
  },
  {
   "cell_type": "code",
   "execution_count": 55,
   "metadata": {
    "ExecuteTime": {
     "end_time": "2019-10-19T01:27:04.032349Z",
     "start_time": "2019-10-19T01:27:03.986664Z"
    }
   },
   "outputs": [],
   "source": [
    "df_fc = pd.read_pickle(fc_pickled_path + 'fc_2018-19')"
   ]
  },
  {
   "cell_type": "code",
   "execution_count": 56,
   "metadata": {
    "ExecuteTime": {
     "end_time": "2019-10-19T01:27:07.753326Z",
     "start_time": "2019-10-19T01:27:05.357751Z"
    }
   },
   "outputs": [],
   "source": [
    "df = nba.merge_game_logs(21800001, 21801230, raw_path)"
   ]
  },
  {
   "cell_type": "code",
   "execution_count": 57,
   "metadata": {
    "ExecuteTime": {
     "end_time": "2019-10-19T01:27:08.896806Z",
     "start_time": "2019-10-19T01:27:08.864988Z"
    }
   },
   "outputs": [],
   "source": [
    "'''\n",
    "This is outdated code. The scraper for stats.nba.com was adjusted for changes to the site and \n",
    "was streamlined. The functions found in stats_nba_scraper.py are updated. Rather than running the scraper \n",
    "again, the original pickled files are used to merge since the information is still the same.\n",
    "'''\n",
    "def clean_merged_game_log(df):\n",
    "    df.rename(columns = {df.columns[10]: 'MP'}, inplace = True)\n",
    "    df.drop(['MIN_y'], axis = 1, inplace = True)\n",
    "    df.drop(['MIN'], axis = 1, inplace = True)\n",
    "    df.drop([''], axis = 1, inplace = True)\n",
    "    df = df.loc[:,~df.columns.duplicated()]\n",
    "\n",
    "    dnp_descriptions = ['DND - Injury/Illness', 'DNP - Injury/Illness', 'NWT - Suspended', 'NWT - Personal', 'NWT - Injury/Illness',\n",
    "            'DND - Rest', 'NWT - Trade Pending', 'DND - Personal', 'DND_COACH', 'NWT_COACH', 'NWT - Trade Pending', 'DNP - Coach\\'s Decision']\n",
    "    dnp_desc = [x if x in dnp_descriptions else 'Active' for x in df['FGM']]\n",
    "    df.insert(11,'DND_TAG',dnp_desc)\n",
    "\n",
    "    df['MP'] = df['MP'].map(lambda x: '00:00' if x == '' else x)\n",
    "\n",
    "    df.loc[df['DND_TAG'] == 'DND - Injury/Illness', 'DND_TAG'] = 'DND_INJ'\n",
    "    df.loc[df['DND_TAG'] == 'DNP - Injury/Illness', 'DND_TAG'] = 'DNP_INJ'\n",
    "    df.loc[df['DND_TAG'] == 'NWT - Suspended', 'DND_TAG'] = 'NWT_SUS'\n",
    "    df.loc[df['DND_TAG'] == 'NWT - Personal', 'DND_TAG'] = 'NWT_PER'\n",
    "    df.loc[df['DND_TAG'] == 'NWT - Injury/Illness', 'DND_TAG'] = 'NWT_INJ'\n",
    "    df.loc[df['DND_TAG'] == 'DND - Rest', 'DND_TAG'] = 'DND_REST'\n",
    "    df.loc[df['DND_TAG'] == 'NWT - Trade Pending', 'DND_TAG'] = 'TR_PEN'\n",
    "    df.loc[df['DND_TAG'] == 'DND - Personal', 'DND_TAG'] = 'DND_PER'\n",
    "    df.loc[df['DND_TAG'] == 'DND_COACH', 'DND_TAG'] = 'DND_COA'\n",
    "    df.loc[df['DND_TAG'] == 'NWT_COACH', 'DND_TAG'] = 'NWT_COA'\n",
    "    df.loc[df['DND_TAG'] == 'NWT - Trade Pending', 'DND_TAG'] = 'TR_PEN'\n",
    "    df.loc[df['DND_TAG'] == 'DNP - Coach\\'s Decision', 'DND_TAG'] = 'DNP_COA'\n",
    "\n",
    "    df.replace('DNP - Coach\\'s Decision', 0, inplace = True)\n",
    "    df.replace('DND - Injury/Illness', 0, inplace = True)\n",
    "    df.replace('DNP - Injury/Illness', 0, inplace = True)\n",
    "    df.replace('NWT - Suspended', 0, inplace = True)\n",
    "    df.replace('NWT - Personal', 0, inplace = True)\n",
    "    df.replace('NWT - Injury/Illness', 0, inplace = True)\n",
    "    df.replace('DND - Rest', 0, inplace = True)\n",
    "    df.replace('NWT - Trade Pending', 0, inplace = True)\n",
    "    df.replace('DND - Personal', 0, inplace = True)\n",
    "    df.replace('DND_COACH', 0, inplace = True)\n",
    "    df.replace('NWT_COACH', 0, inplace = True)\n",
    "    df.replace('3,200.00', 0, inplace = True)\n",
    "    df.replace('9,600.00', 0, inplace = True)\n",
    "    df.replace('1,440.06', 0, inplace = True)\n",
    "    df.replace('14,405.76', 0, inplace = True)\n",
    "    df.replace('1,200.00', 0, inplace = True)\n",
    "    df.replace('2,400.00', 0, inplace = True)\n",
    "    df.replace('1,066.67', 0, inplace = True)\n",
    "    df.replace('1,440.01', 0, inplace = True)\n",
    "    df.replace('1,107.73', 0, inplace = True)\n",
    "    df.replace('-', 0, inplace = True)\n",
    "\n",
    "    df.fillna(0, inplace = True)\n",
    "\n",
    "    position_tag_cleaning = [' F', ' C', ' G']\n",
    "    df['Player'] = df['Player'].map(lambda x: x[:-2] if x[-2:] in position_tag_cleaning else x)\n",
    "\n",
    "    df['Date'] = pd.to_datetime(df['Date'], infer_datetime_format = True)\n",
    "\n",
    "    df['MP'] = df['MP'].map(lambda x: x.replace(':60',':59') if x[-2:] in x else x)\n",
    "    minutes_converted = [ round(datetime.strptime(x,'%M:%S').minute + datetime.strptime(x,'%M:%S').second/60, 4) for x in df['MP']]\n",
    "    df.insert(11, 'MIN', minutes_converted)\n",
    "    #df['MP'] = df['MP'].map(lambda x: datetime.strptime(x, '%M:%S'))\n",
    "\n",
    "    # Convert all required columns to numeric dtypes. to_numeric will decide on int or float\n",
    "    columns_to_numeric = df.columns.to_list()[13:]\n",
    "    columns_to_numeric.insert(0, 'Opp_Score')\n",
    "    columns_to_numeric.insert(0, 'Team_Score')\n",
    "    df[columns_to_numeric] = df[columns_to_numeric].apply(pd.to_numeric)\n",
    "\n",
    "    df.rename(columns = lambda x: x.upper(), inplace = True)\n",
    "\n",
    "    return df"
   ]
  },
  {
   "cell_type": "code",
   "execution_count": null,
   "metadata": {
    "ExecuteTime": {
     "end_time": "2019-10-19T01:28:11.032967Z",
     "start_time": "2019-10-19T01:27:10.001740Z"
    }
   },
   "outputs": [],
   "source": [
    "df = clean_merged_game_log(df)"
   ]
  },
  {
   "cell_type": "code",
   "execution_count": 59,
   "metadata": {
    "ExecuteTime": {
     "end_time": "2019-10-19T01:28:11.993287Z",
     "start_time": "2019-10-19T01:28:11.972714Z"
    }
   },
   "outputs": [],
   "source": [
    "positions = ['F', 'G', 'C']\n",
    "player_names_uncleaned = sorted(list(df['PLAYER'].unique()))\n",
    "\n",
    "cleaned_list = []\n",
    "for player in player_names_uncleaned:\n",
    "    if player[-1:] in positions:\n",
    "        player = player[:-2].strip()\n",
    "        cleaned_list.append(player)\n",
    "    else:\n",
    "        player = player.strip()\n",
    "        cleaned_list.append(player)\n",
    "\n",
    "unique_nba_names = sorted(list(set(cleaned_list)))\n",
    "\n",
    "fc_names_uncleaned = sorted(list(df_fc['Player'].unique()))\n",
    "unique_fc_names = [name.strip() for name in fc_names_uncleaned]\n",
    "\n",
    "name_df = pd.DataFrame(unique_nba_names)\n",
    "fc_name_df = pd.DataFrame(unique_fc_names)"
   ]
  },
  {
   "cell_type": "code",
   "execution_count": 60,
   "metadata": {
    "ExecuteTime": {
     "end_time": "2019-10-19T01:28:13.008143Z",
     "start_time": "2019-10-19T01:28:12.945835Z"
    }
   },
   "outputs": [],
   "source": [
    "name = (len(name_df) * 'NBA ').split(' ')\n",
    "name = list(filter(None, name))\n",
    "name_df['source'] = name\n",
    "\n",
    "fc_name = (len(fc_name_df) * 'FC ').split(' ')\n",
    "fc_name = list(filter(None, fc_name))\n",
    "fc_name_df['source'] = fc_name\n",
    "\n",
    "name_merge_df = pd.merge(name_df, fc_name_df, how = 'outer', on = 0, suffixes = ('_n','_f'))\n",
    "\n",
    "unmatched_names = name_merge_df[~((name_merge_df['source_n'] == 'NBA')&\n",
    "              (name_merge_df['source_f'] == 'FC'))]\n",
    "\n",
    "unmatched_names.sort_values(by=0)"
   ]
  },
  {
   "cell_type": "code",
   "execution_count": 61,
   "metadata": {
    "ExecuteTime": {
     "end_time": "2019-10-19T01:28:13.936709Z",
     "start_time": "2019-10-19T01:28:13.929440Z"
    }
   },
   "outputs": [],
   "source": [
    "fc_to_nba_names = {\n",
    "    'B.J. Johnson': 'BJ Johnson',\n",
    "    'Bruce Brown Jr.': 'Bruce Brown Jr',\n",
    "    'C.J. McCollum': 'CJ McCollum',\n",
    "    'C.J. Miles': 'CJ Miles',\n",
    "    'Cristiano Da Silva Felicio': 'Cristiano Felicio',\n",
    "    'D.J. Stephens': 'DJ Stephens',\n",
    "    'Danuel House': 'Danuel House Jr.',\n",
    "    'DeAndre Bembry': 'DeAndre\\' Bembry',\n",
    "    'Frank Mason III': 'Frank Mason',\n",
    "    'Guillermo Hernangomez': 'Willy Hernangomez',\n",
    "    'Harry Giles': 'Harry Giles III',\n",
    "    'Ishmael Smith': 'Ish Smith',\n",
    "    'J.J. Redick': 'JJ Redick',\n",
    "    'J.R. Smith': 'JR Smith',\n",
    "    'Jacob Evans III': 'Jacob Evans',\n",
    "    'James Ennis': 'James Ennis III',\n",
    "    'Juan Hernangomez': 'Juancho Hernangomez',\n",
    "    'Juan Jose Barea': 'J.J. Barea',\n",
    "    'Louis Williams': 'Lou Williams',\n",
    "    'Melvin Frazier': 'Melvin Frazier Jr.',\n",
    "    'Mitch Creek': 'Mitchell Creek',\n",
    "    'Mohamed Bamba': 'Mo Bamba',\n",
    "    'Naz Long': 'Naz Mitrou-Long',\n",
    "    'Nene Hilario': 'Nene',\n",
    "    'Otto Porter': 'Otto Porter Jr.',\n",
    "    'P.J. Tucker': 'PJ Tucker',\n",
    "    'Patrick Mills': 'Patty Mills',\n",
    "    'R.J. Hunter': 'RJ Hunter',\n",
    "    'Raulzinho Neto': 'Raul Neto',\n",
    "    'Robert Williams': 'Robert Williams III',\n",
    "    'Troy Brown': 'Troy Brown Jr.',\n",
    "    'Wade Baldwin': 'Wade Baldwin IV',\n",
    "    'Walt Lemon Jr.': 'Walter Lemon Jr.',\n",
    "    'Wesley Iwundu': 'Wes Iwundu',\n",
    "}\n",
    "\n"
   ]
  },
  {
   "cell_type": "code",
   "execution_count": 62,
   "metadata": {
    "ExecuteTime": {
     "end_time": "2019-10-19T01:28:14.855339Z",
     "start_time": "2019-10-19T01:28:14.810131Z"
    }
   },
   "outputs": [],
   "source": [
    "df_fc['Player'] = df_fc['Player'].map(fc_to_nba_names).fillna(df_fc['Player'])\n",
    "df_fc['Date'] = pd.to_datetime(df_fc['Date'], infer_datetime_format = True)\n",
    "df['DATE'] = pd.to_datetime(df['DATE'], infer_datetime_format = True)"
   ]
  },
  {
   "cell_type": "code",
   "execution_count": 63,
   "metadata": {
    "ExecuteTime": {
     "end_time": "2019-10-19T01:28:15.947142Z",
     "start_time": "2019-10-19T01:28:15.927524Z"
    }
   },
   "outputs": [],
   "source": [
    "df['PLAYER'] = df['PLAYER'].apply(lambda x: x.strip())"
   ]
  },
  {
   "cell_type": "code",
   "execution_count": 64,
   "metadata": {
    "ExecuteTime": {
     "end_time": "2019-10-19T01:28:17.440218Z",
     "start_time": "2019-10-19T01:28:16.751125Z"
    }
   },
   "outputs": [],
   "source": [
    "df['merge'] = df['PLAYER'] + ' ' + df['DATE'].apply(lambda x: datetime.strftime(x, '%m-%d-%y'))\n",
    "df_fc['merge'] = df_fc['Player'] + ' ' + df_fc['Date'].apply(lambda x: datetime.strftime(x, '%m-%d-%y'))\n",
    "df_fc.drop(['Player', 'Team', 'Opp', 'Date', 'FGA', 'Asts', 'Mins'], axis = 1, inplace = True)\n",
    "df = df.merge(df_fc, how = 'left', on = 'merge')"
   ]
  },
  {
   "cell_type": "code",
   "execution_count": 65,
   "metadata": {
    "ExecuteTime": {
     "end_time": "2019-10-19T01:28:18.719368Z",
     "start_time": "2019-10-19T01:28:18.427305Z"
    }
   },
   "outputs": [],
   "source": [
    "df.to_pickle(model_path + '2018-19_season_fc_merged_v2')"
   ]
  }
 ],
 "metadata": {
  "kernelspec": {
   "display_name": "Python 3",
   "language": "python",
   "name": "python3"
  },
  "language_info": {
   "codemirror_mode": {
    "name": "ipython",
    "version": 3
   },
   "file_extension": ".py",
   "mimetype": "text/x-python",
   "name": "python",
   "nbconvert_exporter": "python",
   "pygments_lexer": "ipython3",
   "version": "3.7.3"
  },
  "varInspector": {
   "cols": {
    "lenName": 16,
    "lenType": 16,
    "lenVar": 40
   },
   "kernels_config": {
    "python": {
     "delete_cmd_postfix": "",
     "delete_cmd_prefix": "del ",
     "library": "var_list.py",
     "varRefreshCmd": "print(var_dic_list())"
    },
    "r": {
     "delete_cmd_postfix": ") ",
     "delete_cmd_prefix": "rm(",
     "library": "var_list.r",
     "varRefreshCmd": "cat(var_dic_list()) "
    }
   },
   "types_to_exclude": [
    "module",
    "function",
    "builtin_function_or_method",
    "instance",
    "_Feature"
   ],
   "window_display": false
  }
 },
 "nbformat": 4,
 "nbformat_minor": 2
}
